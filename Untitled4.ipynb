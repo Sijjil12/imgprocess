{
 "cells": [
  {
   "cell_type": "code",
   "execution_count": 18,
   "id": "d1549f3f",
   "metadata": {},
   "outputs": [],
   "source": [
    "#importing the required module\n",
    "import cv2\n",
    "import matplotlib.image as mpimg\n",
    "import matplotlib.pyplot as plt\n",
    "import numpy as np"
   ]
  },
  {
   "cell_type": "code",
   "execution_count": 25,
   "id": "4dc0678d",
   "metadata": {},
   "outputs": [],
   "source": [
    "def imgprocessing(Image):\n",
    "\n",
    "    image = cv2.imread(Image)\n",
    "    cv2.imshow('Trend Graph', image)\n",
    "    cv2.waitKey(0)\n",
    "    cv2.destroyAllWindows()\n",
    "    ret, binary_img = cv2.threshold(image,225,255,cv2.THRESH_BINARY)\n",
    "    indices = np.where(binary_img== [0])\n",
    "    coordinates =list((indices[0], indices[1]))\n",
    "    max_valx =np.max(coordinates[1])\n",
    "    min_valx =np.min(coordinates[1])\n",
    "    mean_valx = np.mean(coordinates[1])\n",
    "    x = indices[1].max()\n",
    "    nor_coordinates = (coordinates[1])/x\n",
    "    max_val = np.max(nor_coordinates)\n",
    "    min_val = np.min(nor_coordinates)\n",
    "    mean_val = np.mean(nor_coordinates)\n",
    "    print('The Required three points after normalization are: \\nMax Point:', max_val, '\\nMin Point:', min_val, '\\nAverage Point:',mean_val )\n",
    "    return (max_val, min_val, mean_val)\n",
    "\n"
   ]
  },
  {
   "cell_type": "code",
   "execution_count": 26,
   "id": "8f1a31e1",
   "metadata": {},
   "outputs": [
    {
     "name": "stdout",
     "output_type": "stream",
     "text": [
      "The Required three points after normalization are: \n",
      "Max Point: 1.0 \n",
      "Min Point: 0.16147308781869688 \n",
      "Average Point: 0.5071609513879778\n"
     ]
    },
    {
     "data": {
      "text/plain": [
       "(1.0, 0.16147308781869688, 0.5071609513879778)"
      ]
     },
     "execution_count": 26,
     "metadata": {},
     "output_type": "execute_result"
    }
   ],
   "source": [
    "Image = r\"C:\\Users\\Sijji\\Desktop\\images\\Decrease (58).png\"\n",
    "imgprocessing(Image)"
   ]
  }
 ],
 "metadata": {
  "kernelspec": {
   "display_name": "Python 3 (ipykernel)",
   "language": "python",
   "name": "python3"
  },
  "language_info": {
   "codemirror_mode": {
    "name": "ipython",
    "version": 3
   },
   "file_extension": ".py",
   "mimetype": "text/x-python",
   "name": "python",
   "nbconvert_exporter": "python",
   "pygments_lexer": "ipython3",
   "version": "3.9.7"
  }
 },
 "nbformat": 4,
 "nbformat_minor": 5
}
