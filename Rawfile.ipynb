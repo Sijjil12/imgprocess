{
 "cells": [
  {
   "cell_type": "code",
   "execution_count": 162,
   "id": "8f6aeb99",
   "metadata": {},
   "outputs": [],
   "source": [
    "#importing the required module\n",
    "import cv2\n",
    "import matplotlib.image as mpimg\n",
    "import matplotlib.pyplot as plt\n",
    "import numpy as np\n",
    "\n"
   ]
  },
  {
   "cell_type": "code",
   "execution_count": 163,
   "id": "e54f721b",
   "metadata": {},
   "outputs": [],
   "source": [
    "#reading the image\n",
    "path = r\"C:\\Users\\Sijji\\Desktop\\images\\Decrease (58).png\"\n",
    "image = cv2.imread(path)\n",
    "#displaying the image\n",
    "cv2.imshow('Trend Graph', image)\n",
    "#maintaining the output window until user presses a key\n",
    "cv2.waitKey(0)\n",
    "#destroy all windows\n",
    "cv2.destroyAllWindows()"
   ]
  },
  {
   "cell_type": "code",
   "execution_count": 164,
   "id": "fad963c3",
   "metadata": {},
   "outputs": [],
   "source": [
    "#converting image to binary\n",
    "ret, binary_img = cv2.threshold(image,225,255,cv2.THRESH_BINARY)\n",
    "cv2.imshow(\"Binary Image\",binary_img)\n",
    "#maintaining the output window until user presses a key\n",
    "cv2.waitKey(0)\n",
    "#destroy all windows\n",
    "cv2.destroyAllWindows()"
   ]
  },
  {
   "cell_type": "code",
   "execution_count": 165,
   "id": "ea250e3e",
   "metadata": {},
   "outputs": [
    {
     "data": {
      "text/plain": [
       "<matplotlib.image.AxesImage at 0x26680406670>"
      ]
     },
     "execution_count": 165,
     "metadata": {},
     "output_type": "execute_result"
    },
    {
     "data": {
      "image/png": "[encoded data removed]",
      "text/plain": [
       "<Figure size 432x288 with 1 Axes>"
      ]
     },
     "metadata": {
      "needs_background": "light"
     },
     "output_type": "display_data"
    }
   ],
   "source": [
    "plt.imshow(binary_img)"
   ]
  },
  {
   "cell_type": "code",
   "execution_count": 166,
   "id": "95baf9cc",
   "metadata": {},
   "outputs": [
    {
     "name": "stdout",
     "output_type": "stream",
     "text": [
      "706\n"
     ]
    }
   ],
   "source": [
    "#storing the indices of the image\n",
    "indices = np.where(binary_img== [0])\n",
    "coordinates =list((indices[0], indices[1]))\n",
    "#finding the max value \n",
    "max_valx =np.max(coordinates[1])\n",
    "print(max_valx)"
   ]
  },
  {
   "cell_type": "code",
   "execution_count": 167,
   "id": "b13338a1",
   "metadata": {},
   "outputs": [
    {
     "name": "stdout",
     "output_type": "stream",
     "text": [
      "114\n"
     ]
    }
   ],
   "source": [
    "#finding the min value\n",
    "min_valx =np.min(coordinates[1])\n",
    "print(min_valx)"
   ]
  },
  {
   "cell_type": "code",
   "execution_count": 168,
   "id": "84008297",
   "metadata": {},
   "outputs": [
    {
     "name": "stdout",
     "output_type": "stream",
     "text": [
      "358.0556316799123\n"
     ]
    }
   ],
   "source": [
    "#finding the average value\n",
    "mean_valx = np.mean(coordinates[1])\n",
    "print(mean_valx)"
   ]
  },
  {
   "cell_type": "code",
   "execution_count": 169,
   "id": "aae15acf",
   "metadata": {},
   "outputs": [
    {
     "name": "stdout",
     "output_type": "stream",
     "text": [
      "The Required three points are:\n",
      "Max Point: 706 \n",
      "Min Point: 114 \n",
      "Average Point 358.0556316799123\n"
     ]
    }
   ],
   "source": [
    "#printing the required three points\n",
    "print('The Required three points are:\\nMax Point:', max_valx, '\\nMin Point:', min_valx, '\\nAverage Point',mean_valx )"
   ]
  },
  {
   "cell_type": "code",
   "execution_count": 170,
   "id": "e096e7c2",
   "metadata": {},
   "outputs": [
    {
     "name": "stdout",
     "output_type": "stream",
     "text": [
      "1.0 0.16147308781869688 0.5071609513879778\n"
     ]
    }
   ],
   "source": [
    "#normalizing the values\n",
    "x = indices[1].max()\n",
    "nor_coordinates = (coordinates[1])/x\n",
    "max_val = np.max(nor_coordinates)\n",
    "min_val = np.min(nor_coordinates)\n",
    "mean_val = np.mean(nor_coordinates)\n",
    "print(max_val, min_val, mean_val)\n",
    "\n",
    "\n"
   ]
  },
  {
   "cell_type": "code",
   "execution_count": 171,
   "id": "1e887ad4",
   "metadata": {},
   "outputs": [
    {
     "name": "stdout",
     "output_type": "stream",
     "text": [
      "The Required three points after normalization are: \n",
      "Max Point: 1.0 \n",
      "Min Point: 0.16147308781869688 \n",
      "Average Point: 0.5071609513879778\n"
     ]
    }
   ],
   "source": [
    "#printing the required three points\n",
    "print('The Required three points after normalization are: \\nMax Point:', max_val, '\\nMin Point:', min_val, '\\nAverage Point:',mean_val )"
   ]
  }
 ],
 "metadata": {
  "kernelspec": {
   "display_name": "Python 3 (ipykernel)",
   "language": "python",
   "name": "python3"
  },
  "language_info": {
   "codemirror_mode": {
    "name": "ipython",
    "version": 3
   },
   "file_extension": ".py",
   "mimetype": "text/x-python",
   "name": "python",
   "nbconvert_exporter": "python",
   "pygments_lexer": "ipython3",
   "version": "3.9.7"
  }
 },
 "nbformat": 4,
 "nbformat_minor": 5
}
